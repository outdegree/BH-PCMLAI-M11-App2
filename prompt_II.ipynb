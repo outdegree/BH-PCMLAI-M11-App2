{
 "cells": [
  {
   "cell_type": "markdown",
   "metadata": {},
   "source": [
    "# What drives the price of a car?\n",
    "\n",
    "![](images/kurt.jpeg)"
   ]
  },
  {
   "cell_type": "markdown",
   "metadata": {},
   "source": [
    "**OVERVIEW**\n",
    "\n",
    "In this application, you will explore a dataset from kaggle. The original dataset contained information on 3 million used cars. The provided dataset contains information on 426K cars to ensure speed of processing.  Your goal is to understand what factors make a car more or less expensive.  As a result of your analysis, you should provide clear recommendations to your client -- a used car dealership -- as to what consumers value in a used car."
   ]
  },
  {
   "cell_type": "markdown",
   "metadata": {},
   "source": [
    "### CRISP-DM Framework\n",
    "\n",
    "<center>\n",
    "    <img src = images/crisp.png width = 50%/>\n",
    "</center>\n",
    "\n",
    "\n",
    "To frame the task, throughout our practical applications we will refer back to a standard process in industry for data projects called CRISP-DM.  This process provides a framework for working through a data problem.  Your first step in this application will be to read through a brief overview of CRISP-DM [here](https://mo-pcco.s3.us-east-1.amazonaws.com/BH-PCMLAI/module_11/readings_starter.zip).  After reading the overview, answer the questions below."
   ]
  },
  {
   "cell_type": "markdown",
   "metadata": {},
   "source": [
    "### Business Understanding\n",
    "\n",
    "From a business perspective, we are tasked with identifying key drivers for used car prices.  In the CRISP-DM overview, we are asked to convert this business framing to a data problem definition.  Using a few sentences, reframe the task as a data task with the appropriate technical vocabulary. "
   ]
  },
  {
   "cell_type": "markdown",
   "metadata": {},
   "source": [
    "**Note:** All Student's notes are decorated with 📌 emoji."
   ]
  },
  {
   "cell_type": "markdown",
   "metadata": {},
   "source": [
    "#### 📌 Translate Business Objectives to Data Analysis Objectives\n",
    "\n",
    "As a data analyst to find answers for the above business objectives (to identify key features driving the Vehicle Price) I need to:\n",
    "* Fit and measure performance of a few models to predict the Price. Tune the models's hyper-parameters. Finally, pick the most optimal model.\n",
    "* Then analyze coefficients of the most optimal model for the car features to provide answers to the business objectives."
   ]
  },
  {
   "cell_type": "markdown",
   "metadata": {},
   "source": [
    "### Data Understanding\n",
    "\n",
    "After considering the business understanding, we want to get familiar with our data.  Write down some steps that you would take to get to know the dataset and identify any quality issues within.  Take time to get to know the dataset and explore what information it contains and how this could be used to inform your business understanding."
   ]
  },
  {
   "cell_type": "markdown",
   "metadata": {},
   "source": [
    "#### 📌 Load necessary libraries"
   ]
  },
  {
   "cell_type": "code",
   "execution_count": 1,
   "metadata": {},
   "outputs": [],
   "source": [
    "import pandas as pd\n",
    "import numpy as np\n",
    "\n",
    "import seaborn as sns\n",
    "\n",
    "# Configure Pandas to display float types in more readable format using a custom callback.\n",
    "pd.set_option('display.float_format', lambda input_float: '%3f' % input_float)"
   ]
  },
  {
   "cell_type": "markdown",
   "metadata": {},
   "source": [
    "#### 📌 Load the data and describe it"
   ]
  },
  {
   "cell_type": "code",
   "execution_count": 2,
   "metadata": {},
   "outputs": [
    {
     "name": "stdout",
     "output_type": "stream",
     "text": [
      "<class 'pandas.core.frame.DataFrame'>\n",
      "RangeIndex: 426880 entries, 0 to 426879\n",
      "Data columns (total 18 columns):\n",
      " #   Column        Non-Null Count   Dtype  \n",
      "---  ------        --------------   -----  \n",
      " 0   id            426880 non-null  int64  \n",
      " 1   region        426880 non-null  object \n",
      " 2   price         426880 non-null  int64  \n",
      " 3   year          425675 non-null  float64\n",
      " 4   manufacturer  409234 non-null  object \n",
      " 5   model         421603 non-null  object \n",
      " 6   condition     252776 non-null  object \n",
      " 7   cylinders     249202 non-null  object \n",
      " 8   fuel          423867 non-null  object \n",
      " 9   odometer      422480 non-null  float64\n",
      " 10  title_status  418638 non-null  object \n",
      " 11  transmission  424324 non-null  object \n",
      " 12  VIN           265838 non-null  object \n",
      " 13  drive         296313 non-null  object \n",
      " 14  size          120519 non-null  object \n",
      " 15  type          334022 non-null  object \n",
      " 16  paint_color   296677 non-null  object \n",
      " 17  state         426880 non-null  object \n",
      "dtypes: float64(2), int64(2), object(14)\n",
      "memory usage: 58.6+ MB\n"
     ]
    }
   ],
   "source": [
    "df = pd.read_csv('data/vehicles.csv')\n",
    "df.info()"
   ]
  },
  {
   "cell_type": "code",
   "execution_count": 3,
   "metadata": {},
   "outputs": [
    {
     "data": {
      "text/plain": [
       "id             0.000000\n",
       "price          0.000000\n",
       "state          0.000000\n",
       "region         0.000000\n",
       "year           0.002823\n",
       "transmission   0.005988\n",
       "fuel           0.007058\n",
       "odometer       0.010307\n",
       "model          0.012362\n",
       "title_status   0.019308\n",
       "manufacturer   0.041337\n",
       "type           0.217527\n",
       "paint_color    0.305011\n",
       "drive          0.305863\n",
       "VIN            0.377254\n",
       "condition      0.407852\n",
       "cylinders      0.416225\n",
       "size           0.717675\n",
       "dtype: float64"
      ]
     },
     "execution_count": 3,
     "metadata": {},
     "output_type": "execute_result"
    }
   ],
   "source": [
    "df.isna().mean().sort_values()"
   ]
  },
  {
   "cell_type": "markdown",
   "metadata": {},
   "source": [
    "📌 Insight:\n",
    "* There is quite a bit of missing values. This will need to be addressed by dropping an offending feature or by data imputation.\n",
    "* Columns VIN or ID do not influence Vehicle Price and can be dropped altogether.\n",
    "* Column `year` is encoded as `float` type which does not make sense as it is a scalar. This feature could be also converted to a more meaningful `age` feature -> `age = <current year> - <car model year>`. "
   ]
  },
  {
   "cell_type": "code",
   "execution_count": 4,
   "metadata": {},
   "outputs": [
    {
     "data": {
      "text/html": [
       "<div>\n",
       "<style scoped>\n",
       "    .dataframe tbody tr th:only-of-type {\n",
       "        vertical-align: middle;\n",
       "    }\n",
       "\n",
       "    .dataframe tbody tr th {\n",
       "        vertical-align: top;\n",
       "    }\n",
       "\n",
       "    .dataframe thead th {\n",
       "        text-align: right;\n",
       "    }\n",
       "</style>\n",
       "<table border=\"1\" class=\"dataframe\">\n",
       "  <thead>\n",
       "    <tr style=\"text-align: right;\">\n",
       "      <th></th>\n",
       "      <th>id</th>\n",
       "      <th>region</th>\n",
       "      <th>price</th>\n",
       "      <th>year</th>\n",
       "      <th>manufacturer</th>\n",
       "      <th>model</th>\n",
       "      <th>condition</th>\n",
       "      <th>cylinders</th>\n",
       "      <th>fuel</th>\n",
       "      <th>odometer</th>\n",
       "      <th>title_status</th>\n",
       "      <th>transmission</th>\n",
       "      <th>VIN</th>\n",
       "      <th>drive</th>\n",
       "      <th>size</th>\n",
       "      <th>type</th>\n",
       "      <th>paint_color</th>\n",
       "      <th>state</th>\n",
       "    </tr>\n",
       "  </thead>\n",
       "  <tbody>\n",
       "    <tr>\n",
       "      <th>16314</th>\n",
       "      <td>7311624350</td>\n",
       "      <td>tucson</td>\n",
       "      <td>0</td>\n",
       "      <td>2020.000000</td>\n",
       "      <td>dodge</td>\n",
       "      <td>challenger</td>\n",
       "      <td>NaN</td>\n",
       "      <td>NaN</td>\n",
       "      <td>gas</td>\n",
       "      <td>11251.000000</td>\n",
       "      <td>clean</td>\n",
       "      <td>automatic</td>\n",
       "      <td>2C3CDZBT1LH196306</td>\n",
       "      <td>NaN</td>\n",
       "      <td>NaN</td>\n",
       "      <td>NaN</td>\n",
       "      <td>NaN</td>\n",
       "      <td>az</td>\n",
       "    </tr>\n",
       "    <tr>\n",
       "      <th>26545</th>\n",
       "      <td>7313968849</td>\n",
       "      <td>fresno / madera</td>\n",
       "      <td>21995</td>\n",
       "      <td>2011.000000</td>\n",
       "      <td>ford</td>\n",
       "      <td>f-250</td>\n",
       "      <td>excellent</td>\n",
       "      <td>NaN</td>\n",
       "      <td>diesel</td>\n",
       "      <td>176000.000000</td>\n",
       "      <td>clean</td>\n",
       "      <td>automatic</td>\n",
       "      <td>NaN</td>\n",
       "      <td>NaN</td>\n",
       "      <td>NaN</td>\n",
       "      <td>NaN</td>\n",
       "      <td>NaN</td>\n",
       "      <td>ca</td>\n",
       "    </tr>\n",
       "    <tr>\n",
       "      <th>361837</th>\n",
       "      <td>7313097680</td>\n",
       "      <td>tri-cities</td>\n",
       "      <td>6500</td>\n",
       "      <td>2013.000000</td>\n",
       "      <td>hyundai</td>\n",
       "      <td>veloster</td>\n",
       "      <td>good</td>\n",
       "      <td>4 cylinders</td>\n",
       "      <td>gas</td>\n",
       "      <td>131000.000000</td>\n",
       "      <td>clean</td>\n",
       "      <td>automatic</td>\n",
       "      <td>NaN</td>\n",
       "      <td>fwd</td>\n",
       "      <td>compact</td>\n",
       "      <td>hatchback</td>\n",
       "      <td>black</td>\n",
       "      <td>tn</td>\n",
       "    </tr>\n",
       "    <tr>\n",
       "      <th>48536</th>\n",
       "      <td>7316774532</td>\n",
       "      <td>reno / tahoe</td>\n",
       "      <td>0</td>\n",
       "      <td>2006.000000</td>\n",
       "      <td>ford</td>\n",
       "      <td>f-150 fx4 fx4 4dr supercab</td>\n",
       "      <td>NaN</td>\n",
       "      <td>8 cylinders</td>\n",
       "      <td>gas</td>\n",
       "      <td>289162.000000</td>\n",
       "      <td>clean</td>\n",
       "      <td>automatic</td>\n",
       "      <td>1FTPX14576FA16983</td>\n",
       "      <td>4wd</td>\n",
       "      <td>NaN</td>\n",
       "      <td>truck</td>\n",
       "      <td>NaN</td>\n",
       "      <td>ca</td>\n",
       "    </tr>\n",
       "    <tr>\n",
       "      <th>367989</th>\n",
       "      <td>7308254751</td>\n",
       "      <td>corpus christi</td>\n",
       "      <td>20507</td>\n",
       "      <td>2014.000000</td>\n",
       "      <td>audi</td>\n",
       "      <td>q5</td>\n",
       "      <td>NaN</td>\n",
       "      <td>6 cylinders</td>\n",
       "      <td>diesel</td>\n",
       "      <td>76479.000000</td>\n",
       "      <td>clean</td>\n",
       "      <td>automatic</td>\n",
       "      <td>WA1CMAFP5EA078135</td>\n",
       "      <td>4wd</td>\n",
       "      <td>mid-size</td>\n",
       "      <td>SUV</td>\n",
       "      <td>grey</td>\n",
       "      <td>tx</td>\n",
       "    </tr>\n",
       "    <tr>\n",
       "      <th>285829</th>\n",
       "      <td>7310589234</td>\n",
       "      <td>new hampshire</td>\n",
       "      <td>99</td>\n",
       "      <td>2018.000000</td>\n",
       "      <td>hyundai</td>\n",
       "      <td>elantra</td>\n",
       "      <td>NaN</td>\n",
       "      <td>NaN</td>\n",
       "      <td>gas</td>\n",
       "      <td>27180.000000</td>\n",
       "      <td>clean</td>\n",
       "      <td>automatic</td>\n",
       "      <td>5NPD84LF8JH389623</td>\n",
       "      <td>fwd</td>\n",
       "      <td>full-size</td>\n",
       "      <td>sedan</td>\n",
       "      <td>grey</td>\n",
       "      <td>nh</td>\n",
       "    </tr>\n",
       "    <tr>\n",
       "      <th>232570</th>\n",
       "      <td>7314438891</td>\n",
       "      <td>charlotte</td>\n",
       "      <td>10000</td>\n",
       "      <td>1950.000000</td>\n",
       "      <td>gmc</td>\n",
       "      <td>NaN</td>\n",
       "      <td>NaN</td>\n",
       "      <td>6 cylinders</td>\n",
       "      <td>gas</td>\n",
       "      <td>20000.000000</td>\n",
       "      <td>clean</td>\n",
       "      <td>manual</td>\n",
       "      <td>NaN</td>\n",
       "      <td>rwd</td>\n",
       "      <td>NaN</td>\n",
       "      <td>pickup</td>\n",
       "      <td>NaN</td>\n",
       "      <td>nc</td>\n",
       "    </tr>\n",
       "    <tr>\n",
       "      <th>180380</th>\n",
       "      <td>7308039947</td>\n",
       "      <td>maine</td>\n",
       "      <td>15995</td>\n",
       "      <td>2009.000000</td>\n",
       "      <td>toyota</td>\n",
       "      <td>tacoma</td>\n",
       "      <td>excellent</td>\n",
       "      <td>NaN</td>\n",
       "      <td>gas</td>\n",
       "      <td>152000.000000</td>\n",
       "      <td>clean</td>\n",
       "      <td>automatic</td>\n",
       "      <td>3TMLU42N69M028994</td>\n",
       "      <td>4wd</td>\n",
       "      <td>NaN</td>\n",
       "      <td>pickup</td>\n",
       "      <td>brown</td>\n",
       "      <td>me</td>\n",
       "    </tr>\n",
       "    <tr>\n",
       "      <th>219267</th>\n",
       "      <td>7316627934</td>\n",
       "      <td>columbia / jeff city</td>\n",
       "      <td>11500</td>\n",
       "      <td>1929.000000</td>\n",
       "      <td>NaN</td>\n",
       "      <td>Model A</td>\n",
       "      <td>good</td>\n",
       "      <td>4 cylinders</td>\n",
       "      <td>gas</td>\n",
       "      <td>10000.000000</td>\n",
       "      <td>clean</td>\n",
       "      <td>manual</td>\n",
       "      <td>NaN</td>\n",
       "      <td>rwd</td>\n",
       "      <td>mid-size</td>\n",
       "      <td>pickup</td>\n",
       "      <td>yellow</td>\n",
       "      <td>mo</td>\n",
       "    </tr>\n",
       "    <tr>\n",
       "      <th>135098</th>\n",
       "      <td>7303259715</td>\n",
       "      <td>lewiston / clarkston</td>\n",
       "      <td>3500</td>\n",
       "      <td>2006.000000</td>\n",
       "      <td>NaN</td>\n",
       "      <td>Milan</td>\n",
       "      <td>good</td>\n",
       "      <td>4 cylinders</td>\n",
       "      <td>gas</td>\n",
       "      <td>120000.000000</td>\n",
       "      <td>clean</td>\n",
       "      <td>manual</td>\n",
       "      <td>NaN</td>\n",
       "      <td>fwd</td>\n",
       "      <td>NaN</td>\n",
       "      <td>sedan</td>\n",
       "      <td>black</td>\n",
       "      <td>id</td>\n",
       "    </tr>\n",
       "  </tbody>\n",
       "</table>\n",
       "</div>"
      ],
      "text/plain": [
       "                id                region  price        year manufacturer  \\\n",
       "16314   7311624350                tucson      0 2020.000000        dodge   \n",
       "26545   7313968849       fresno / madera  21995 2011.000000         ford   \n",
       "361837  7313097680            tri-cities   6500 2013.000000      hyundai   \n",
       "48536   7316774532          reno / tahoe      0 2006.000000         ford   \n",
       "367989  7308254751        corpus christi  20507 2014.000000         audi   \n",
       "285829  7310589234         new hampshire     99 2018.000000      hyundai   \n",
       "232570  7314438891             charlotte  10000 1950.000000          gmc   \n",
       "180380  7308039947                 maine  15995 2009.000000       toyota   \n",
       "219267  7316627934  columbia / jeff city  11500 1929.000000          NaN   \n",
       "135098  7303259715  lewiston / clarkston   3500 2006.000000          NaN   \n",
       "\n",
       "                             model  condition    cylinders    fuel  \\\n",
       "16314                   challenger        NaN          NaN     gas   \n",
       "26545                        f-250  excellent          NaN  diesel   \n",
       "361837                    veloster       good  4 cylinders     gas   \n",
       "48536   f-150 fx4 fx4 4dr supercab        NaN  8 cylinders     gas   \n",
       "367989                          q5        NaN  6 cylinders  diesel   \n",
       "285829                     elantra        NaN          NaN     gas   \n",
       "232570                         NaN        NaN  6 cylinders     gas   \n",
       "180380                      tacoma  excellent          NaN     gas   \n",
       "219267                     Model A       good  4 cylinders     gas   \n",
       "135098                       Milan       good  4 cylinders     gas   \n",
       "\n",
       "            odometer title_status transmission                VIN drive  \\\n",
       "16314   11251.000000        clean    automatic  2C3CDZBT1LH196306   NaN   \n",
       "26545  176000.000000        clean    automatic                NaN   NaN   \n",
       "361837 131000.000000        clean    automatic                NaN   fwd   \n",
       "48536  289162.000000        clean    automatic  1FTPX14576FA16983   4wd   \n",
       "367989  76479.000000        clean    automatic  WA1CMAFP5EA078135   4wd   \n",
       "285829  27180.000000        clean    automatic  5NPD84LF8JH389623   fwd   \n",
       "232570  20000.000000        clean       manual                NaN   rwd   \n",
       "180380 152000.000000        clean    automatic  3TMLU42N69M028994   4wd   \n",
       "219267  10000.000000        clean       manual                NaN   rwd   \n",
       "135098 120000.000000        clean       manual                NaN   fwd   \n",
       "\n",
       "             size       type paint_color state  \n",
       "16314         NaN        NaN         NaN    az  \n",
       "26545         NaN        NaN         NaN    ca  \n",
       "361837    compact  hatchback       black    tn  \n",
       "48536         NaN      truck         NaN    ca  \n",
       "367989   mid-size        SUV        grey    tx  \n",
       "285829  full-size      sedan        grey    nh  \n",
       "232570        NaN     pickup         NaN    nc  \n",
       "180380        NaN     pickup       brown    me  \n",
       "219267   mid-size     pickup      yellow    mo  \n",
       "135098        NaN      sedan       black    id  "
      ]
     },
     "execution_count": 4,
     "metadata": {},
     "output_type": "execute_result"
    }
   ],
   "source": [
    "df.sample(10, random_state = 44)"
   ]
  },
  {
   "cell_type": "code",
   "execution_count": 5,
   "metadata": {},
   "outputs": [
    {
     "data": {
      "text/html": [
       "<div>\n",
       "<style scoped>\n",
       "    .dataframe tbody tr th:only-of-type {\n",
       "        vertical-align: middle;\n",
       "    }\n",
       "\n",
       "    .dataframe tbody tr th {\n",
       "        vertical-align: top;\n",
       "    }\n",
       "\n",
       "    .dataframe thead th {\n",
       "        text-align: right;\n",
       "    }\n",
       "</style>\n",
       "<table border=\"1\" class=\"dataframe\">\n",
       "  <thead>\n",
       "    <tr style=\"text-align: right;\">\n",
       "      <th></th>\n",
       "      <th>id</th>\n",
       "      <th>price</th>\n",
       "      <th>year</th>\n",
       "      <th>odometer</th>\n",
       "    </tr>\n",
       "  </thead>\n",
       "  <tbody>\n",
       "    <tr>\n",
       "      <th>count</th>\n",
       "      <td>426880.000000</td>\n",
       "      <td>426880.000000</td>\n",
       "      <td>425675.000000</td>\n",
       "      <td>422480.000000</td>\n",
       "    </tr>\n",
       "    <tr>\n",
       "      <th>mean</th>\n",
       "      <td>7311486634.224333</td>\n",
       "      <td>75199.033187</td>\n",
       "      <td>2011.235191</td>\n",
       "      <td>98043.331443</td>\n",
       "    </tr>\n",
       "    <tr>\n",
       "      <th>std</th>\n",
       "      <td>4473170.412559</td>\n",
       "      <td>12182282.173604</td>\n",
       "      <td>9.452120</td>\n",
       "      <td>213881.500798</td>\n",
       "    </tr>\n",
       "    <tr>\n",
       "      <th>min</th>\n",
       "      <td>7207408119.000000</td>\n",
       "      <td>0.000000</td>\n",
       "      <td>1900.000000</td>\n",
       "      <td>0.000000</td>\n",
       "    </tr>\n",
       "    <tr>\n",
       "      <th>25%</th>\n",
       "      <td>7308143339.250000</td>\n",
       "      <td>5900.000000</td>\n",
       "      <td>2008.000000</td>\n",
       "      <td>37704.000000</td>\n",
       "    </tr>\n",
       "    <tr>\n",
       "      <th>50%</th>\n",
       "      <td>7312620821.000000</td>\n",
       "      <td>13950.000000</td>\n",
       "      <td>2013.000000</td>\n",
       "      <td>85548.000000</td>\n",
       "    </tr>\n",
       "    <tr>\n",
       "      <th>75%</th>\n",
       "      <td>7315253543.500000</td>\n",
       "      <td>26485.750000</td>\n",
       "      <td>2017.000000</td>\n",
       "      <td>133542.500000</td>\n",
       "    </tr>\n",
       "    <tr>\n",
       "      <th>max</th>\n",
       "      <td>7317101084.000000</td>\n",
       "      <td>3736928711.000000</td>\n",
       "      <td>2022.000000</td>\n",
       "      <td>10000000.000000</td>\n",
       "    </tr>\n",
       "  </tbody>\n",
       "</table>\n",
       "</div>"
      ],
      "text/plain": [
       "                     id             price          year        odometer\n",
       "count     426880.000000     426880.000000 425675.000000   422480.000000\n",
       "mean  7311486634.224333      75199.033187   2011.235191    98043.331443\n",
       "std      4473170.412559   12182282.173604      9.452120   213881.500798\n",
       "min   7207408119.000000          0.000000   1900.000000        0.000000\n",
       "25%   7308143339.250000       5900.000000   2008.000000    37704.000000\n",
       "50%   7312620821.000000      13950.000000   2013.000000    85548.000000\n",
       "75%   7315253543.500000      26485.750000   2017.000000   133542.500000\n",
       "max   7317101084.000000 3736928711.000000   2022.000000 10000000.000000"
      ]
     },
     "execution_count": 5,
     "metadata": {},
     "output_type": "execute_result"
    }
   ],
   "source": [
    "df.describe()"
   ]
  },
  {
   "cell_type": "markdown",
   "metadata": {},
   "source": [
    "📌 Insight:\n",
    "* There are some really bogus entires.\n",
    "* Minimum `price` is 0; `year` - 1900; `odometer` - 0.0\n",
    "* Maximum `price` is 3,736,928,711; `odometer` - 10,000,000."
   ]
  },
  {
   "cell_type": "markdown",
   "metadata": {},
   "source": [
    "##### 📌 Analyze the Price ($) data \n",
    "\n",
    "Vehicle Price is the univariate we need to predict. It is important to examine its distribution. The closer it is to normal distribution the better will be our models."
   ]
  },
  {
   "cell_type": "code",
   "execution_count": 6,
   "metadata": {},
   "outputs": [
    {
     "name": "stdout",
     "output_type": "stream",
     "text": [
      "Number of records with Price value <= 0:  32895\n",
      "Number of records with Price value > 100,000:  655\n"
     ]
    },
    {
     "name": "stderr",
     "output_type": "stream",
     "text": [
      "/opt/anaconda3/lib/python3.11/site-packages/seaborn/_oldcore.py:1119: FutureWarning: use_inf_as_na option is deprecated and will be removed in a future version. Convert inf values to NaN before operating instead.\n",
      "  with pd.option_context('mode.use_inf_as_na', True):\n"
     ]
    },
    {
     "data": {
      "text/plain": [
       "[Text(0.5, 1.0, 'Distribution of Price variable < $100,000')]"
      ]
     },
     "execution_count": 6,
     "metadata": {},
     "output_type": "execute_result"
    },
    {
     "data": {
      "image/png": "[encoded data removed]",
      "text/plain": [
       "<Figure size 640x480 with 1 Axes>"
      ]
     },
     "metadata": {},
     "output_type": "display_data"
    }
   ],
   "source": [
    "print('Number of records with Price value <= 0: ', df.query('price <= 0')['price'].count())\n",
    "print('Number of records with Price value > 100,000: ', df.query('price > 100_000')['price'].count())\n",
    "sns.histplot(data = df.query('price < 100_000')['price'], bins = 20).set(title = 'Distribution of Price variable < $100,000')"
   ]
  },
  {
   "cell_type": "markdown",
   "metadata": {},
   "source": [
    "📌 Clearly Vehicle Price variable is not normally distributed. There is a lof of outliers. Primarily 0-values but there are also some very expensive exotic cars. This will need to be addressed in the data preparation phase. "
   ]
  },
  {
   "cell_type": "markdown",
   "metadata": {},
   "source": [
    "##### 📌 Other Vehicle Features"
   ]
  },
  {
   "cell_type": "code",
   "execution_count": 7,
   "metadata": {},
   "outputs": [
    {
     "data": {
      "text/plain": [
       "[Text(0.5, 1.0, 'Distribution of vehicle production year')]"
      ]
     },
     "execution_count": 7,
     "metadata": {},
     "output_type": "execute_result"
    },
    {
     "data": {
      "image/png": "[encoded data removed]",
      "text/plain": [
       "<Figure size 640x480 with 1 Axes>"
      ]
     },
     "metadata": {},
     "output_type": "display_data"
    }
   ],
   "source": [
    "sns.boxplot(data = df, x = 'year').set(title = 'Distribution of vehicle production year')"
   ]
  },
  {
   "cell_type": "markdown",
   "metadata": {},
   "source": [
    "📌 We will need to address cars with bogus `year` entries. 1900 is not the only one bogus value as found earlier. I think we should drop cars manufactured before year 2000. Antics market is a separate and speculative domain on its own and outside of our business objective. \n",
    "\n",
    "In addition we can convert `year` to something like `age` to better express the negative impact vehicle's `age` has on its `price`. "
   ]
  },
  {
   "cell_type": "code",
   "execution_count": 8,
   "metadata": {},
   "outputs": [
    {
     "data": {
      "text/plain": [
       "[Text(0.5, 1.0, 'Distribution of vehicle odometer')]"
      ]
     },
     "execution_count": 8,
     "metadata": {},
     "output_type": "execute_result"
    },
    {
     "data": {
      "image/png": "[encoded data removed]",
      "text/plain": [
       "<Figure size 640x480 with 1 Axes>"
      ]
     },
     "metadata": {},
     "output_type": "display_data"
    }
   ],
   "source": [
    "sns.boxplot(data = df, x = 'odometer').set(title = 'Distribution of vehicle odometer')"
   ]
  },
  {
   "cell_type": "markdown",
   "metadata": {},
   "source": [
    "📌 Similarly to `year`, we will need to discard entries with bogus `odometer` entries. Probably over 200,000 miles is a reasonable cut off value."
   ]
  },
  {
   "cell_type": "code",
   "execution_count": 9,
   "metadata": {},
   "outputs": [
    {
     "data": {
      "text/plain": [
       "cylinders\n",
       "6 cylinders     94169\n",
       "4 cylinders     77642\n",
       "8 cylinders     72062\n",
       "5 cylinders      1712\n",
       "10 cylinders     1455\n",
       "other            1298\n",
       "3 cylinders       655\n",
       "12 cylinders      209\n",
       "Name: count, dtype: int64"
      ]
     },
     "execution_count": 9,
     "metadata": {},
     "output_type": "execute_result"
    }
   ],
   "source": [
    "df['cylinders'].value_counts()"
   ]
  },
  {
   "cell_type": "markdown",
   "metadata": {},
   "source": [
    "📌 We can convert cylinders to numerical type. Then decide if we still need it. It seems like an important driver of a car price (characterizes engine performance) but also there's a lot of missing values. 42% of data is missing."
   ]
  },
  {
   "cell_type": "code",
   "execution_count": 10,
   "metadata": {},
   "outputs": [
    {
     "data": {
      "text/plain": [
       "size\n",
       "full-size      63465\n",
       "mid-size       34476\n",
       "compact        19384\n",
       "sub-compact     3194\n",
       "Name: count, dtype: int64"
      ]
     },
     "execution_count": 10,
     "metadata": {},
     "output_type": "execute_result"
    }
   ],
   "source": [
    "df['size'].value_counts()"
   ]
  },
  {
   "cell_type": "markdown",
   "metadata": {},
   "source": [
    "📌 Car size might be another important feature but 72% of data is missing. "
   ]
  },
  {
   "cell_type": "code",
   "execution_count": 11,
   "metadata": {},
   "outputs": [
    {
     "data": {
      "text/plain": [
       "title_status\n",
       "clean         405117\n",
       "rebuilt         7219\n",
       "salvage         3868\n",
       "lien            1422\n",
       "missing          814\n",
       "parts only       198\n",
       "Name: count, dtype: int64"
      ]
     },
     "execution_count": 11,
     "metadata": {},
     "output_type": "execute_result"
    }
   ],
   "source": [
    "df['title_status'].value_counts()"
   ]
  },
  {
   "cell_type": "markdown",
   "metadata": {},
   "source": [
    "📌 Only 2% if data is missing. We could use Ordinal Encoding. Perhaps remove `missing` and `parts only` vehicles or only focus on `clean` titles too."
   ]
  },
  {
   "cell_type": "code",
   "execution_count": 12,
   "metadata": {},
   "outputs": [
    {
     "data": {
      "text/plain": [
       "transmission\n",
       "automatic    336524\n",
       "other         62682\n",
       "manual        25118\n",
       "Name: count, dtype: int64"
      ]
     },
     "execution_count": 12,
     "metadata": {},
     "output_type": "execute_result"
    }
   ],
   "source": [
    "df['transmission'].value_counts()"
   ]
  },
  {
   "cell_type": "markdown",
   "metadata": {},
   "source": [
    "📌 Only 0.6% of data is missing but I don't think this data is relevant in the US. In Europe, for example, Automatic transmission cars are unpopular."
   ]
  },
  {
   "cell_type": "code",
   "execution_count": 13,
   "metadata": {},
   "outputs": [
    {
     "data": {
      "text/plain": [
       "drive\n",
       "4wd    131904\n",
       "fwd    105517\n",
       "rwd     58892\n",
       "Name: count, dtype: int64"
      ]
     },
     "execution_count": 13,
     "metadata": {},
     "output_type": "execute_result"
    }
   ],
   "source": [
    "df['drive'].value_counts()"
   ]
  },
  {
   "cell_type": "markdown",
   "metadata": {},
   "source": [
    "📌 31% of data missing. Seems irrelevant."
   ]
  },
  {
   "cell_type": "code",
   "execution_count": 14,
   "metadata": {},
   "outputs": [
    {
     "data": {
      "text/plain": [
       "manufacturer\n",
       "ford               70985\n",
       "chevrolet          55064\n",
       "toyota             34202\n",
       "honda              21269\n",
       "nissan             19067\n",
       "jeep               19014\n",
       "ram                18342\n",
       "gmc                16785\n",
       "bmw                14699\n",
       "dodge              13707\n",
       "mercedes-benz      11817\n",
       "hyundai            10338\n",
       "subaru              9495\n",
       "volkswagen          9345\n",
       "kia                 8457\n",
       "lexus               8200\n",
       "audi                7573\n",
       "cadillac            6953\n",
       "chrysler            6031\n",
       "acura               5978\n",
       "buick               5501\n",
       "mazda               5427\n",
       "infiniti            4802\n",
       "lincoln             4220\n",
       "volvo               3374\n",
       "mitsubishi          3292\n",
       "mini                2376\n",
       "pontiac             2288\n",
       "rover               2113\n",
       "jaguar              1946\n",
       "porsche             1384\n",
       "mercury             1184\n",
       "saturn              1090\n",
       "alfa-romeo           897\n",
       "tesla                868\n",
       "fiat                 792\n",
       "harley-davidson      153\n",
       "ferrari               95\n",
       "datsun                63\n",
       "aston-martin          24\n",
       "land rover            21\n",
       "morgan                 3\n",
       "Name: count, dtype: int64"
      ]
     },
     "execution_count": 14,
     "metadata": {},
     "output_type": "execute_result"
    }
   ],
   "source": [
    "df['manufacturer'].value_counts()"
   ]
  },
  {
   "cell_type": "markdown",
   "metadata": {},
   "source": [
    "📌 We have only %4 of `manufacturer` data missing and brand matters in sales. Let's try to use that data if possible. With this many unique values it will increase the complexity of the model however. Perhaps `Ordinal Encoder` should be used."
   ]
  },
  {
   "cell_type": "code",
   "execution_count": 15,
   "metadata": {},
   "outputs": [
    {
     "data": {
      "text/plain": [
       "condition\n",
       "good         121456\n",
       "excellent    101467\n",
       "like new      21178\n",
       "fair           6769\n",
       "new            1305\n",
       "salvage         601\n",
       "Name: count, dtype: int64"
      ]
     },
     "execution_count": 15,
     "metadata": {},
     "output_type": "execute_result"
    }
   ],
   "source": [
    "df['condition'].value_counts()"
   ]
  },
  {
   "cell_type": "markdown",
   "metadata": {},
   "source": [
    "📌 40% of data is missing. However, `condition` seems essential in Vehicle Price evaluation."
   ]
  },
  {
   "cell_type": "code",
   "execution_count": 16,
   "metadata": {},
   "outputs": [
    {
     "data": {
      "text/plain": [
       "region\n",
       "frederick             4914334.204861\n",
       "delaware              3205055.885142\n",
       "humboldt county       2902729.974026\n",
       "modesto               1401324.300034\n",
       "knoxville             1369993.301122\n",
       "                           ...      \n",
       "sioux city               9649.819338\n",
       "southeast IA             9624.102857\n",
       "klamath falls            9550.169096\n",
       "west virginia (old)      9423.750000\n",
       "siskiyou county          8293.855422\n",
       "Name: price, Length: 404, dtype: float64"
      ]
     },
     "execution_count": 16,
     "metadata": {},
     "output_type": "execute_result"
    }
   ],
   "source": [
    "df.groupby('state')['price'].mean().sort_values(ascending = False)\n",
    "df.groupby('region')['price'].mean().sort_values(ascending = False)"
   ]
  },
  {
   "cell_type": "markdown",
   "metadata": {},
   "source": [
    "📌 It looks like in Delaware there's a lot of expensive car sales?!? But generally region and state information should not affect car price."
   ]
  },
  {
   "cell_type": "code",
   "execution_count": 17,
   "metadata": {},
   "outputs": [
    {
     "data": {
      "text/plain": [
       "<Axes: >"
      ]
     },
     "execution_count": 17,
     "metadata": {},
     "output_type": "execute_result"
    },
    {
     "data": {
      "image/png": "[encoded data removed]",
      "text/plain": [
       "<Figure size 640x480 with 2 Axes>"
      ]
     },
     "metadata": {},
     "output_type": "display_data"
    }
   ],
   "source": [
    "corr = df.corr(numeric_only = True)\n",
    "sns.heatmap(data = corr, annot = True)"
   ]
  },
  {
   "cell_type": "markdown",
   "metadata": {},
   "source": [
    "📌 Nothing interesting here. Correlation analysis will make more sense after the data cleanup."
   ]
  },
  {
   "cell_type": "code",
   "execution_count": 18,
   "metadata": {},
   "outputs": [
    {
     "data": {
      "text/plain": [
       "0"
      ]
     },
     "execution_count": 18,
     "metadata": {},
     "output_type": "execute_result"
    }
   ],
   "source": [
    "df.duplicated().sum()"
   ]
  },
  {
   "cell_type": "markdown",
   "metadata": {},
   "source": [
    "### Data Preparation\n",
    "\n",
    "After our initial exploration and fine tuning of the business understanding, it is time to construct our final dataset prior to modeling.  Here, we want to make sure to handle any integrity issues and cleaning, the engineering of new features, any transformations that we believe should happen (scaling, logarithms, normalization, etc.), and general preparation for modeling with `sklearn`. "
   ]
  },
  {
   "cell_type": "code",
   "execution_count": 19,
   "metadata": {},
   "outputs": [],
   "source": [
    "# Make a \"deep\" copy from the original DataFrame. Simple assignment does only a \"shallow\" copy.\n",
    "veh = df.copy()"
   ]
  },
  {
   "cell_type": "markdown",
   "metadata": {},
   "source": [
    "#### 📌 Handle Outliers"
   ]
  },
  {
   "cell_type": "code",
   "execution_count": 20,
   "metadata": {},
   "outputs": [],
   "source": [
    "# Remove cars older than year 2000. Also add new column 'age'. Since max 'year' is 2022 we will bias the 'age' at 2022.\n",
    "veh = veh.query('year >= 2000')\n",
    "veh['age'] = 2022 - veh['year'].dropna().astype(np.int32)\n",
    "# Finally, remove year column since we have age.\n",
    "veh.drop(columns = ['year'], inplace = True)"
   ]
  },
  {
   "cell_type": "code",
   "execution_count": 21,
   "metadata": {},
   "outputs": [],
   "source": [
    "# Remove cars with mileage over 200k miles.\n",
    "veh = veh.query('odometer <= 200_000')"
   ]
  },
  {
   "cell_type": "code",
   "execution_count": 22,
   "metadata": {},
   "outputs": [],
   "source": [
    "# Keep entries where price is in range: ~500 - ~300,000\n",
    "# Also convert price to log() to get normal distribution.\n",
    "veh = veh.query('(price >= 1_000) and (price <= 200_000)')\n",
    "veh['price_log'] = np.log(veh['price'])"
   ]
  },
  {
   "cell_type": "markdown",
   "metadata": {},
   "source": [
    "#### 📌 Drop Columns, NaNs and Duplicates"
   ]
  },
  {
   "cell_type": "code",
   "execution_count": 23,
   "metadata": {},
   "outputs": [],
   "source": [
    "# Drop columns with not much relevant data.\n",
    "veh.drop(columns = ['id', 'VIN', 'fuel', 'model'], inplace = True)\n",
    "\n",
    "# Drop columns with majority of missing data.\n",
    "veh.drop(columns = ['size', 'cylinders', 'condition', 'drive', 'paint_color', 'type'], inplace = True)\n",
    "\n",
    "# Drop categorical columns that would just increase number of features. We can come back to them later. \n",
    "veh.drop(columns = ['transmission', 'state', 'region'], inplace = True)"
   ]
  },
  {
   "cell_type": "code",
   "execution_count": 24,
   "metadata": {},
   "outputs": [],
   "source": [
    "# Drop all remaining NaNs.\n",
    "veh.dropna(inplace = True)\n",
    "\n",
    "# Drop leftover duplicates.\n",
    "veh.drop_duplicates(keep = False, inplace = True)"
   ]
  },
  {
   "cell_type": "markdown",
   "metadata": {},
   "source": [
    "#### 📌 Final Check"
   ]
  },
  {
   "cell_type": "code",
   "execution_count": 25,
   "metadata": {},
   "outputs": [
    {
     "name": "stdout",
     "output_type": "stream",
     "text": [
      "<class 'pandas.core.frame.DataFrame'>\n",
      "Index: 130077 entries, 31 to 426819\n",
      "Data columns (total 6 columns):\n",
      " #   Column        Non-Null Count   Dtype  \n",
      "---  ------        --------------   -----  \n",
      " 0   price         130077 non-null  int64  \n",
      " 1   manufacturer  130077 non-null  object \n",
      " 2   odometer      130077 non-null  float64\n",
      " 3   title_status  130077 non-null  object \n",
      " 4   age           130077 non-null  int32  \n",
      " 5   price_log     130077 non-null  float64\n",
      "dtypes: float64(2), int32(1), int64(1), object(2)\n",
      "memory usage: 6.5+ MB\n"
     ]
    },
    {
     "data": {
      "text/html": [
       "<div>\n",
       "<style scoped>\n",
       "    .dataframe tbody tr th:only-of-type {\n",
       "        vertical-align: middle;\n",
       "    }\n",
       "\n",
       "    .dataframe tbody tr th {\n",
       "        vertical-align: top;\n",
       "    }\n",
       "\n",
       "    .dataframe thead th {\n",
       "        text-align: right;\n",
       "    }\n",
       "</style>\n",
       "<table border=\"1\" class=\"dataframe\">\n",
       "  <thead>\n",
       "    <tr style=\"text-align: right;\">\n",
       "      <th></th>\n",
       "      <th>price</th>\n",
       "      <th>odometer</th>\n",
       "      <th>age</th>\n",
       "      <th>price_log</th>\n",
       "    </tr>\n",
       "  </thead>\n",
       "  <tbody>\n",
       "    <tr>\n",
       "      <th>count</th>\n",
       "      <td>130077.000000</td>\n",
       "      <td>130077.000000</td>\n",
       "      <td>130077.000000</td>\n",
       "      <td>130077.000000</td>\n",
       "    </tr>\n",
       "    <tr>\n",
       "      <th>mean</th>\n",
       "      <td>15555.010586</td>\n",
       "      <td>99115.114993</td>\n",
       "      <td>10.313714</td>\n",
       "      <td>9.343660</td>\n",
       "    </tr>\n",
       "    <tr>\n",
       "      <th>std</th>\n",
       "      <td>13148.800355</td>\n",
       "      <td>52137.377906</td>\n",
       "      <td>5.069825</td>\n",
       "      <td>0.807656</td>\n",
       "    </tr>\n",
       "    <tr>\n",
       "      <th>min</th>\n",
       "      <td>1000.000000</td>\n",
       "      <td>0.000000</td>\n",
       "      <td>0.000000</td>\n",
       "      <td>6.907755</td>\n",
       "    </tr>\n",
       "    <tr>\n",
       "      <th>25%</th>\n",
       "      <td>6500.000000</td>\n",
       "      <td>57850.000000</td>\n",
       "      <td>6.000000</td>\n",
       "      <td>8.779557</td>\n",
       "    </tr>\n",
       "    <tr>\n",
       "      <th>50%</th>\n",
       "      <td>11900.000000</td>\n",
       "      <td>100740.000000</td>\n",
       "      <td>10.000000</td>\n",
       "      <td>9.384294</td>\n",
       "    </tr>\n",
       "    <tr>\n",
       "      <th>75%</th>\n",
       "      <td>20000.000000</td>\n",
       "      <td>140000.000000</td>\n",
       "      <td>14.000000</td>\n",
       "      <td>9.903488</td>\n",
       "    </tr>\n",
       "    <tr>\n",
       "      <th>max</th>\n",
       "      <td>195000.000000</td>\n",
       "      <td>200000.000000</td>\n",
       "      <td>22.000000</td>\n",
       "      <td>12.180755</td>\n",
       "    </tr>\n",
       "  </tbody>\n",
       "</table>\n",
       "</div>"
      ],
      "text/plain": [
       "              price      odometer           age     price_log\n",
       "count 130077.000000 130077.000000 130077.000000 130077.000000\n",
       "mean   15555.010586  99115.114993     10.313714      9.343660\n",
       "std    13148.800355  52137.377906      5.069825      0.807656\n",
       "min     1000.000000      0.000000      0.000000      6.907755\n",
       "25%     6500.000000  57850.000000      6.000000      8.779557\n",
       "50%    11900.000000 100740.000000     10.000000      9.384294\n",
       "75%    20000.000000 140000.000000     14.000000      9.903488\n",
       "max   195000.000000 200000.000000     22.000000     12.180755"
      ]
     },
     "execution_count": 25,
     "metadata": {},
     "output_type": "execute_result"
    }
   ],
   "source": [
    "veh.info()\n",
    "veh.describe()"
   ]
  },
  {
   "cell_type": "code",
   "execution_count": 26,
   "metadata": {},
   "outputs": [
    {
     "name": "stdout",
     "output_type": "stream",
     "text": [
      "(426880, 18)\n",
      "0\n",
      "(130077, 6)\n",
      "0\n"
     ]
    }
   ],
   "source": [
    "print(df.shape)\n",
    "print(df.duplicated().sum())\n",
    "print(veh.shape)\n",
    "print(veh.duplicated().sum())"
   ]
  },
  {
   "cell_type": "markdown",
   "metadata": {},
   "source": [
    "We have 130k rows left for training and validation."
   ]
  },
  {
   "cell_type": "code",
   "execution_count": 27,
   "metadata": {},
   "outputs": [
    {
     "name": "stderr",
     "output_type": "stream",
     "text": [
      "/opt/anaconda3/lib/python3.11/site-packages/seaborn/_oldcore.py:1119: FutureWarning: use_inf_as_na option is deprecated and will be removed in a future version. Convert inf values to NaN before operating instead.\n",
      "  with pd.option_context('mode.use_inf_as_na', True):\n"
     ]
    },
    {
     "data": {
      "text/plain": [
       "[Text(0.5, 1.0, 'Distribution of log(Price)')]"
      ]
     },
     "execution_count": 27,
     "metadata": {},
     "output_type": "execute_result"
    },
    {
     "data": {
      "image/png": "[encoded data removed]",
      "text/plain": [
       "<Figure size 640x480 with 1 Axes>"
      ]
     },
     "metadata": {},
     "output_type": "display_data"
    }
   ],
   "source": [
    "sns.histplot(data = veh['price_log'], bins = 20).set(title = 'Distribution of log(Price)')"
   ]
  },
  {
   "cell_type": "markdown",
   "metadata": {},
   "source": [
    "📌 After logarithmic transformation of the `price` column we see normal distribution pattern emerging."
   ]
  },
  {
   "cell_type": "code",
   "execution_count": 28,
   "metadata": {},
   "outputs": [
    {
     "data": {
      "text/plain": [
       "<Axes: >"
      ]
     },
     "execution_count": 28,
     "metadata": {},
     "output_type": "execute_result"
    },
    {
     "data": {
      "image/png": "[encoded data removed]",
      "text/plain": [
       "<Figure size 640x480 with 2 Axes>"
      ]
     },
     "metadata": {},
     "output_type": "display_data"
    }
   ],
   "source": [
    "corr = veh.corr(numeric_only = True)\n",
    "sns.heatmap(data = corr, annot = True)"
   ]
  },
  {
   "cell_type": "markdown",
   "metadata": {},
   "source": [
    "📌 After data cleaning and data conversion we see very strong negative corelation between car's age and odometer reading against its price."
   ]
  },
  {
   "cell_type": "markdown",
   "metadata": {},
   "source": [
    "#### 📌 Transformations"
   ]
  },
  {
   "cell_type": "markdown",
   "metadata": {},
   "source": [
    "### Modeling\n",
    "\n",
    "With your (almost?) final dataset in hand, it is now time to build some models.  Here, you should build a number of different regression models with the price as the target.  In building your models, you should explore different parameters and be sure to cross-validate your findings."
   ]
  },
  {
   "cell_type": "code",
   "execution_count": null,
   "metadata": {},
   "outputs": [],
   "source": []
  },
  {
   "cell_type": "code",
   "execution_count": null,
   "metadata": {},
   "outputs": [],
   "source": []
  },
  {
   "cell_type": "code",
   "execution_count": null,
   "metadata": {},
   "outputs": [],
   "source": []
  },
  {
   "cell_type": "code",
   "execution_count": null,
   "metadata": {},
   "outputs": [],
   "source": []
  },
  {
   "cell_type": "markdown",
   "metadata": {},
   "source": [
    "### Evaluation\n",
    "\n",
    "With some modeling accomplished, we aim to reflect on what we identify as a high quality model and what we are able to learn from this.  We should review our business objective and explore how well we can provide meaningful insight on drivers of used car prices.  Your goal now is to distill your findings and determine whether the earlier phases need revisitation and adjustment or if you have information of value to bring back to your client."
   ]
  },
  {
   "cell_type": "code",
   "execution_count": null,
   "metadata": {},
   "outputs": [],
   "source": []
  },
  {
   "cell_type": "code",
   "execution_count": null,
   "metadata": {},
   "outputs": [],
   "source": []
  },
  {
   "cell_type": "code",
   "execution_count": null,
   "metadata": {},
   "outputs": [],
   "source": []
  },
  {
   "cell_type": "code",
   "execution_count": null,
   "metadata": {},
   "outputs": [],
   "source": []
  },
  {
   "cell_type": "code",
   "execution_count": null,
   "metadata": {},
   "outputs": [],
   "source": []
  },
  {
   "cell_type": "code",
   "execution_count": null,
   "metadata": {},
   "outputs": [],
   "source": []
  },
  {
   "cell_type": "markdown",
   "metadata": {},
   "source": [
    "### Deployment\n",
    "\n",
    "Now that we've settled on our models and findings, it is time to deliver the information to the client.  You should organize your work as a basic report that details your primary findings.  Keep in mind that your audience is a group of used car dealers interested in fine tuning their inventory."
   ]
  },
  {
   "cell_type": "code",
   "execution_count": null,
   "metadata": {},
   "outputs": [],
   "source": []
  },
  {
   "cell_type": "code",
   "execution_count": null,
   "metadata": {},
   "outputs": [],
   "source": []
  },
  {
   "cell_type": "code",
   "execution_count": null,
   "metadata": {},
   "outputs": [],
   "source": []
  },
  {
   "cell_type": "code",
   "execution_count": null,
   "metadata": {},
   "outputs": [],
   "source": []
  },
  {
   "cell_type": "code",
   "execution_count": null,
   "metadata": {},
   "outputs": [],
   "source": []
  },
  {
   "cell_type": "code",
   "execution_count": null,
   "metadata": {},
   "outputs": [],
   "source": []
  },
  {
   "cell_type": "code",
   "execution_count": null,
   "metadata": {},
   "outputs": [],
   "source": []
  }
 ],
 "metadata": {
  "kernelspec": {
   "display_name": "Python 3",
   "language": "python",
   "name": "python3"
  },
  "language_info": {
   "codemirror_mode": {
    "name": "ipython",
    "version": 3
   },
   "file_extension": ".py",
   "mimetype": "text/x-python",
   "name": "python",
   "nbconvert_exporter": "python",
   "pygments_lexer": "ipython3",
   "version": "3.11.7"
  },
  "widgets": {
   "application/vnd.jupyter.widget-state+json": {
    "state": {},
    "version_major": 2,
    "version_minor": 0
   }
  }
 },
 "nbformat": 4,
 "nbformat_minor": 4
}
