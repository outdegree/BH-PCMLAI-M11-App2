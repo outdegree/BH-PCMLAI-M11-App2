{
 "cells": [
  {
   "cell_type": "markdown",
   "metadata": {},
   "source": [
    "# What drives the price of a car?\n",
    "\n",
    "![](images/kurt.jpeg)"
   ]
  },
  {
   "cell_type": "markdown",
   "metadata": {},
   "source": [
    "**OVERVIEW**\n",
    "\n",
    "In this application, you will explore a dataset from kaggle. The original dataset contained information on 3 million used cars. The provided dataset contains information on 426K cars to ensure speed of processing.  Your goal is to understand what factors make a car more or less expensive.  As a result of your analysis, you should provide clear recommendations to your client -- a used car dealership -- as to what consumers value in a used car."
   ]
  },
  {
   "cell_type": "markdown",
   "metadata": {},
   "source": [
    "### CRISP-DM Framework\n",
    "\n",
    "<center>\n",
    "    <img src = images/crisp.png width = 50%/>\n",
    "</center>\n",
    "\n",
    "\n",
    "To frame the task, throughout our practical applications we will refer back to a standard process in industry for data projects called CRISP-DM.  This process provides a framework for working through a data problem.  Your first step in this application will be to read through a brief overview of CRISP-DM [here](https://mo-pcco.s3.us-east-1.amazonaws.com/BH-PCMLAI/module_11/readings_starter.zip).  After reading the overview, answer the questions below."
   ]
  },
  {
   "cell_type": "markdown",
   "metadata": {},
   "source": [
    "### Business Understanding\n",
    "\n",
    "From a business perspective, we are tasked with identifying key drivers for used car prices.  In the CRISP-DM overview, we are asked to convert this business framing to a data problem definition.  Using a few sentences, reframe the task as a data task with the appropriate technical vocabulary. "
   ]
  },
  {
   "cell_type": "markdown",
   "metadata": {},
   "source": [
    "**Note:** All Student's notes are decorated with 📌 emoji."
   ]
  },
  {
   "cell_type": "markdown",
   "metadata": {},
   "source": [
    "#### 📌 Translate Business Objectives to Data Analysis Objectives\n",
    "\n",
    "As a data analyst to find answers for the above business objectives (to identify key features driving the Vehicle Price) I need to:\n",
    "* Fit and measure performance of a few models to predict the Price. Tune the models's hyper-parameters. Finally, pick the most optimal model.\n",
    "* Then analyze coefficients of the most optimal model for the car features to provide answers to the business objectives."
   ]
  },
  {
   "cell_type": "markdown",
   "metadata": {},
   "source": [
    "### Data Understanding\n",
    "\n",
    "After considering the business understanding, we want to get familiar with our data.  Write down some steps that you would take to get to know the dataset and identify any quality issues within.  Take time to get to know the dataset and explore what information it contains and how this could be used to inform your business understanding."
   ]
  },
  {
   "cell_type": "markdown",
   "metadata": {},
   "source": [
    "#### 📌 Load necessary libraries"
   ]
  },
  {
   "cell_type": "code",
   "execution_count": 1,
   "metadata": {},
   "outputs": [],
   "source": [
    "import pandas as pd\n",
    "import numpy as np\n",
    "\n",
    "import seaborn as sns\n",
    "\n",
    "# Configure Pandas to display float types in more readable format using a custom callback.\n",
    "pd.set_option('display.float_format', lambda input_float: '%3f' % input_float)"
   ]
  },
  {
   "cell_type": "markdown",
   "metadata": {},
   "source": [
    "#### 📌 Load the data and describe it"
   ]
  },
  {
   "cell_type": "code",
   "execution_count": 2,
   "metadata": {},
   "outputs": [
    {
     "name": "stdout",
     "output_type": "stream",
     "text": [
      "<class 'pandas.core.frame.DataFrame'>\n",
      "RangeIndex: 426880 entries, 0 to 426879\n",
      "Data columns (total 18 columns):\n",
      " #   Column        Non-Null Count   Dtype  \n",
      "---  ------        --------------   -----  \n",
      " 0   id            426880 non-null  int64  \n",
      " 1   region        426880 non-null  object \n",
      " 2   price         426880 non-null  int64  \n",
      " 3   year          425675 non-null  float64\n",
      " 4   manufacturer  409234 non-null  object \n",
      " 5   model         421603 non-null  object \n",
      " 6   condition     252776 non-null  object \n",
      " 7   cylinders     249202 non-null  object \n",
      " 8   fuel          423867 non-null  object \n",
      " 9   odometer      422480 non-null  float64\n",
      " 10  title_status  418638 non-null  object \n",
      " 11  transmission  424324 non-null  object \n",
      " 12  VIN           265838 non-null  object \n",
      " 13  drive         296313 non-null  object \n",
      " 14  size          120519 non-null  object \n",
      " 15  type          334022 non-null  object \n",
      " 16  paint_color   296677 non-null  object \n",
      " 17  state         426880 non-null  object \n",
      "dtypes: float64(2), int64(2), object(14)\n",
      "memory usage: 58.6+ MB\n"
     ]
    }
   ],
   "source": [
    "df = pd.read_csv('data/vehicles.csv')\n",
    "df.info()"
   ]
  },
  {
   "cell_type": "code",
   "execution_count": 3,
   "metadata": {},
   "outputs": [
    {
     "data": {
      "text/plain": [
       "id             0.000000\n",
       "price          0.000000\n",
       "state          0.000000\n",
       "region         0.000000\n",
       "year           0.002823\n",
       "transmission   0.005988\n",
       "fuel           0.007058\n",
       "odometer       0.010307\n",
       "model          0.012362\n",
       "title_status   0.019308\n",
       "manufacturer   0.041337\n",
       "type           0.217527\n",
       "paint_color    0.305011\n",
       "drive          0.305863\n",
       "VIN            0.377254\n",
       "condition      0.407852\n",
       "cylinders      0.416225\n",
       "size           0.717675\n",
       "dtype: float64"
      ]
     },
     "execution_count": 3,
     "metadata": {},
     "output_type": "execute_result"
    }
   ],
   "source": [
    "df.isna().mean().sort_values()"
   ]
  },
  {
   "cell_type": "markdown",
   "metadata": {},
   "source": [
    "📌 Insight:\n",
    "* There is quite a bit of missing values. This will need to be addressed by dropping an offending feature or by data imputation.\n",
    "* Columns VIN or ID do not influence Vehicle Price and can be dropped altogether.\n",
    "* Column `year` is encoded as `float` type which does not make sense as it is a scalar. This feature could be also converted to a more meaningful `age` feature -> `age = <current year> - <car model year>`. "
   ]
  },
  {
   "cell_type": "code",
   "execution_count": 4,
   "metadata": {},
   "outputs": [
    {
     "data": {
      "text/html": [
       "<div>\n",
       "<style scoped>\n",
       "    .dataframe tbody tr th:only-of-type {\n",
       "        vertical-align: middle;\n",
       "    }\n",
       "\n",
       "    .dataframe tbody tr th {\n",
       "        vertical-align: top;\n",
       "    }\n",
       "\n",
       "    .dataframe thead th {\n",
       "        text-align: right;\n",
       "    }\n",
       "</style>\n",
       "<table border=\"1\" class=\"dataframe\">\n",
       "  <thead>\n",
       "    <tr style=\"text-align: right;\">\n",
       "      <th></th>\n",
       "      <th>id</th>\n",
       "      <th>region</th>\n",
       "      <th>price</th>\n",
       "      <th>year</th>\n",
       "      <th>manufacturer</th>\n",
       "      <th>model</th>\n",
       "      <th>condition</th>\n",
       "      <th>cylinders</th>\n",
       "      <th>fuel</th>\n",
       "      <th>odometer</th>\n",
       "      <th>title_status</th>\n",
       "      <th>transmission</th>\n",
       "      <th>VIN</th>\n",
       "      <th>drive</th>\n",
       "      <th>size</th>\n",
       "      <th>type</th>\n",
       "      <th>paint_color</th>\n",
       "      <th>state</th>\n",
       "    </tr>\n",
       "  </thead>\n",
       "  <tbody>\n",
       "    <tr>\n",
       "      <th>10159</th>\n",
       "      <td>7316783619</td>\n",
       "      <td>phoenix</td>\n",
       "      <td>4750</td>\n",
       "      <td>2009.000000</td>\n",
       "      <td>ford</td>\n",
       "      <td>taurus</td>\n",
       "      <td>excellent</td>\n",
       "      <td>6 cylinders</td>\n",
       "      <td>gas</td>\n",
       "      <td>123041.000000</td>\n",
       "      <td>clean</td>\n",
       "      <td>automatic</td>\n",
       "      <td>NaN</td>\n",
       "      <td>fwd</td>\n",
       "      <td>mid-size</td>\n",
       "      <td>sedan</td>\n",
       "      <td>blue</td>\n",
       "      <td>az</td>\n",
       "    </tr>\n",
       "    <tr>\n",
       "      <th>28942</th>\n",
       "      <td>7316356026</td>\n",
       "      <td>hanford-corcoran</td>\n",
       "      <td>23590</td>\n",
       "      <td>2016.000000</td>\n",
       "      <td>mazda</td>\n",
       "      <td>mx-5 miata grand touring</td>\n",
       "      <td>good</td>\n",
       "      <td>NaN</td>\n",
       "      <td>other</td>\n",
       "      <td>45045.000000</td>\n",
       "      <td>clean</td>\n",
       "      <td>other</td>\n",
       "      <td>JM1NDAD75G0101116</td>\n",
       "      <td>rwd</td>\n",
       "      <td>NaN</td>\n",
       "      <td>other</td>\n",
       "      <td>red</td>\n",
       "      <td>ca</td>\n",
       "    </tr>\n",
       "    <tr>\n",
       "      <th>48604</th>\n",
       "      <td>7316555710</td>\n",
       "      <td>reno / tahoe</td>\n",
       "      <td>0</td>\n",
       "      <td>2012.000000</td>\n",
       "      <td>ford</td>\n",
       "      <td>f250 super duty</td>\n",
       "      <td>excellent</td>\n",
       "      <td>8 cylinders</td>\n",
       "      <td>gas</td>\n",
       "      <td>102219.000000</td>\n",
       "      <td>clean</td>\n",
       "      <td>automatic</td>\n",
       "      <td>1FTBF2A60CED00800</td>\n",
       "      <td>rwd</td>\n",
       "      <td>full-size</td>\n",
       "      <td>truck</td>\n",
       "      <td>blue</td>\n",
       "      <td>ca</td>\n",
       "    </tr>\n",
       "    <tr>\n",
       "      <th>37648</th>\n",
       "      <td>7313241259</td>\n",
       "      <td>modesto</td>\n",
       "      <td>17990</td>\n",
       "      <td>2015.000000</td>\n",
       "      <td>volkswagen</td>\n",
       "      <td>golf tdi sel</td>\n",
       "      <td>good</td>\n",
       "      <td>NaN</td>\n",
       "      <td>diesel</td>\n",
       "      <td>51482.000000</td>\n",
       "      <td>clean</td>\n",
       "      <td>other</td>\n",
       "      <td>3VW2A7AU4FM096184</td>\n",
       "      <td>fwd</td>\n",
       "      <td>NaN</td>\n",
       "      <td>sedan</td>\n",
       "      <td>white</td>\n",
       "      <td>ca</td>\n",
       "    </tr>\n",
       "    <tr>\n",
       "      <th>58625</th>\n",
       "      <td>7302727751</td>\n",
       "      <td>san luis obispo</td>\n",
       "      <td>4995</td>\n",
       "      <td>2005.000000</td>\n",
       "      <td>honda</td>\n",
       "      <td>cr-v</td>\n",
       "      <td>excellent</td>\n",
       "      <td>NaN</td>\n",
       "      <td>gas</td>\n",
       "      <td>204152.000000</td>\n",
       "      <td>clean</td>\n",
       "      <td>automatic</td>\n",
       "      <td>JHLRD68585C006457</td>\n",
       "      <td>fwd</td>\n",
       "      <td>NaN</td>\n",
       "      <td>NaN</td>\n",
       "      <td>blue</td>\n",
       "      <td>ca</td>\n",
       "    </tr>\n",
       "    <tr>\n",
       "      <th>151018</th>\n",
       "      <td>7306701748</td>\n",
       "      <td>fort wayne</td>\n",
       "      <td>35590</td>\n",
       "      <td>2020.000000</td>\n",
       "      <td>lincoln</td>\n",
       "      <td>corsair sport utility 4d</td>\n",
       "      <td>good</td>\n",
       "      <td>NaN</td>\n",
       "      <td>gas</td>\n",
       "      <td>1454.000000</td>\n",
       "      <td>clean</td>\n",
       "      <td>other</td>\n",
       "      <td>5LMCJ1C95LUL11617</td>\n",
       "      <td>fwd</td>\n",
       "      <td>NaN</td>\n",
       "      <td>other</td>\n",
       "      <td>NaN</td>\n",
       "      <td>in</td>\n",
       "    </tr>\n",
       "    <tr>\n",
       "      <th>144601</th>\n",
       "      <td>7314544690</td>\n",
       "      <td>rockford</td>\n",
       "      <td>2500</td>\n",
       "      <td>2002.000000</td>\n",
       "      <td>chevrolet</td>\n",
       "      <td>impala</td>\n",
       "      <td>good</td>\n",
       "      <td>6 cylinders</td>\n",
       "      <td>gas</td>\n",
       "      <td>158042.000000</td>\n",
       "      <td>clean</td>\n",
       "      <td>automatic</td>\n",
       "      <td>NaN</td>\n",
       "      <td>fwd</td>\n",
       "      <td>mid-size</td>\n",
       "      <td>sedan</td>\n",
       "      <td>brown</td>\n",
       "      <td>il</td>\n",
       "    </tr>\n",
       "    <tr>\n",
       "      <th>117653</th>\n",
       "      <td>7315061193</td>\n",
       "      <td>tampa bay area</td>\n",
       "      <td>6200</td>\n",
       "      <td>2013.000000</td>\n",
       "      <td>hyundai</td>\n",
       "      <td>veloster</td>\n",
       "      <td>excellent</td>\n",
       "      <td>4 cylinders</td>\n",
       "      <td>gas</td>\n",
       "      <td>150000.000000</td>\n",
       "      <td>clean</td>\n",
       "      <td>automatic</td>\n",
       "      <td>NaN</td>\n",
       "      <td>NaN</td>\n",
       "      <td>NaN</td>\n",
       "      <td>NaN</td>\n",
       "      <td>NaN</td>\n",
       "      <td>fl</td>\n",
       "    </tr>\n",
       "    <tr>\n",
       "      <th>320158</th>\n",
       "      <td>7308212783</td>\n",
       "      <td>medford-ashland</td>\n",
       "      <td>4888</td>\n",
       "      <td>2009.000000</td>\n",
       "      <td>hyundai</td>\n",
       "      <td>elantra gls sedan</td>\n",
       "      <td>fair</td>\n",
       "      <td>4 cylinders</td>\n",
       "      <td>gas</td>\n",
       "      <td>161199.000000</td>\n",
       "      <td>clean</td>\n",
       "      <td>automatic</td>\n",
       "      <td>KMHDU46D49U630662</td>\n",
       "      <td>fwd</td>\n",
       "      <td>mid-size</td>\n",
       "      <td>sedan</td>\n",
       "      <td>red</td>\n",
       "      <td>or</td>\n",
       "    </tr>\n",
       "    <tr>\n",
       "      <th>400691</th>\n",
       "      <td>7312481215</td>\n",
       "      <td>bellingham</td>\n",
       "      <td>4985</td>\n",
       "      <td>2010.000000</td>\n",
       "      <td>toyota</td>\n",
       "      <td>corolla</td>\n",
       "      <td>NaN</td>\n",
       "      <td>NaN</td>\n",
       "      <td>gas</td>\n",
       "      <td>185243.000000</td>\n",
       "      <td>clean</td>\n",
       "      <td>automatic</td>\n",
       "      <td>2T1BU4EE1AC360300</td>\n",
       "      <td>fwd</td>\n",
       "      <td>compact</td>\n",
       "      <td>sedan</td>\n",
       "      <td>silver</td>\n",
       "      <td>wa</td>\n",
       "    </tr>\n",
       "  </tbody>\n",
       "</table>\n",
       "</div>"
      ],
      "text/plain": [
       "                id            region  price        year manufacturer  \\\n",
       "10159   7316783619           phoenix   4750 2009.000000         ford   \n",
       "28942   7316356026  hanford-corcoran  23590 2016.000000        mazda   \n",
       "48604   7316555710      reno / tahoe      0 2012.000000         ford   \n",
       "37648   7313241259           modesto  17990 2015.000000   volkswagen   \n",
       "58625   7302727751   san luis obispo   4995 2005.000000        honda   \n",
       "151018  7306701748        fort wayne  35590 2020.000000      lincoln   \n",
       "144601  7314544690          rockford   2500 2002.000000    chevrolet   \n",
       "117653  7315061193    tampa bay area   6200 2013.000000      hyundai   \n",
       "320158  7308212783   medford-ashland   4888 2009.000000      hyundai   \n",
       "400691  7312481215        bellingham   4985 2010.000000       toyota   \n",
       "\n",
       "                           model  condition    cylinders    fuel  \\\n",
       "10159                     taurus  excellent  6 cylinders     gas   \n",
       "28942   mx-5 miata grand touring       good          NaN   other   \n",
       "48604            f250 super duty  excellent  8 cylinders     gas   \n",
       "37648               golf tdi sel       good          NaN  diesel   \n",
       "58625                       cr-v  excellent          NaN     gas   \n",
       "151018  corsair sport utility 4d       good          NaN     gas   \n",
       "144601                    impala       good  6 cylinders     gas   \n",
       "117653                  veloster  excellent  4 cylinders     gas   \n",
       "320158         elantra gls sedan       fair  4 cylinders     gas   \n",
       "400691                   corolla        NaN          NaN     gas   \n",
       "\n",
       "            odometer title_status transmission                VIN drive  \\\n",
       "10159  123041.000000        clean    automatic                NaN   fwd   \n",
       "28942   45045.000000        clean        other  JM1NDAD75G0101116   rwd   \n",
       "48604  102219.000000        clean    automatic  1FTBF2A60CED00800   rwd   \n",
       "37648   51482.000000        clean        other  3VW2A7AU4FM096184   fwd   \n",
       "58625  204152.000000        clean    automatic  JHLRD68585C006457   fwd   \n",
       "151018   1454.000000        clean        other  5LMCJ1C95LUL11617   fwd   \n",
       "144601 158042.000000        clean    automatic                NaN   fwd   \n",
       "117653 150000.000000        clean    automatic                NaN   NaN   \n",
       "320158 161199.000000        clean    automatic  KMHDU46D49U630662   fwd   \n",
       "400691 185243.000000        clean    automatic  2T1BU4EE1AC360300   fwd   \n",
       "\n",
       "             size   type paint_color state  \n",
       "10159    mid-size  sedan        blue    az  \n",
       "28942         NaN  other         red    ca  \n",
       "48604   full-size  truck        blue    ca  \n",
       "37648         NaN  sedan       white    ca  \n",
       "58625         NaN    NaN        blue    ca  \n",
       "151018        NaN  other         NaN    in  \n",
       "144601   mid-size  sedan       brown    il  \n",
       "117653        NaN    NaN         NaN    fl  \n",
       "320158   mid-size  sedan         red    or  \n",
       "400691    compact  sedan      silver    wa  "
      ]
     },
     "execution_count": 4,
     "metadata": {},
     "output_type": "execute_result"
    }
   ],
   "source": [
    "df.sample(10)"
   ]
  },
  {
   "cell_type": "code",
   "execution_count": 5,
   "metadata": {},
   "outputs": [
    {
     "data": {
      "text/html": [
       "<div>\n",
       "<style scoped>\n",
       "    .dataframe tbody tr th:only-of-type {\n",
       "        vertical-align: middle;\n",
       "    }\n",
       "\n",
       "    .dataframe tbody tr th {\n",
       "        vertical-align: top;\n",
       "    }\n",
       "\n",
       "    .dataframe thead th {\n",
       "        text-align: right;\n",
       "    }\n",
       "</style>\n",
       "<table border=\"1\" class=\"dataframe\">\n",
       "  <thead>\n",
       "    <tr style=\"text-align: right;\">\n",
       "      <th></th>\n",
       "      <th>id</th>\n",
       "      <th>price</th>\n",
       "      <th>year</th>\n",
       "      <th>odometer</th>\n",
       "    </tr>\n",
       "  </thead>\n",
       "  <tbody>\n",
       "    <tr>\n",
       "      <th>count</th>\n",
       "      <td>426880.000000</td>\n",
       "      <td>426880.000000</td>\n",
       "      <td>425675.000000</td>\n",
       "      <td>422480.000000</td>\n",
       "    </tr>\n",
       "    <tr>\n",
       "      <th>mean</th>\n",
       "      <td>7311486634.224333</td>\n",
       "      <td>75199.033187</td>\n",
       "      <td>2011.235191</td>\n",
       "      <td>98043.331443</td>\n",
       "    </tr>\n",
       "    <tr>\n",
       "      <th>std</th>\n",
       "      <td>4473170.412559</td>\n",
       "      <td>12182282.173604</td>\n",
       "      <td>9.452120</td>\n",
       "      <td>213881.500798</td>\n",
       "    </tr>\n",
       "    <tr>\n",
       "      <th>min</th>\n",
       "      <td>7207408119.000000</td>\n",
       "      <td>0.000000</td>\n",
       "      <td>1900.000000</td>\n",
       "      <td>0.000000</td>\n",
       "    </tr>\n",
       "    <tr>\n",
       "      <th>25%</th>\n",
       "      <td>7308143339.250000</td>\n",
       "      <td>5900.000000</td>\n",
       "      <td>2008.000000</td>\n",
       "      <td>37704.000000</td>\n",
       "    </tr>\n",
       "    <tr>\n",
       "      <th>50%</th>\n",
       "      <td>7312620821.000000</td>\n",
       "      <td>13950.000000</td>\n",
       "      <td>2013.000000</td>\n",
       "      <td>85548.000000</td>\n",
       "    </tr>\n",
       "    <tr>\n",
       "      <th>75%</th>\n",
       "      <td>7315253543.500000</td>\n",
       "      <td>26485.750000</td>\n",
       "      <td>2017.000000</td>\n",
       "      <td>133542.500000</td>\n",
       "    </tr>\n",
       "    <tr>\n",
       "      <th>max</th>\n",
       "      <td>7317101084.000000</td>\n",
       "      <td>3736928711.000000</td>\n",
       "      <td>2022.000000</td>\n",
       "      <td>10000000.000000</td>\n",
       "    </tr>\n",
       "  </tbody>\n",
       "</table>\n",
       "</div>"
      ],
      "text/plain": [
       "                     id             price          year        odometer\n",
       "count     426880.000000     426880.000000 425675.000000   422480.000000\n",
       "mean  7311486634.224333      75199.033187   2011.235191    98043.331443\n",
       "std      4473170.412559   12182282.173604      9.452120   213881.500798\n",
       "min   7207408119.000000          0.000000   1900.000000        0.000000\n",
       "25%   7308143339.250000       5900.000000   2008.000000    37704.000000\n",
       "50%   7312620821.000000      13950.000000   2013.000000    85548.000000\n",
       "75%   7315253543.500000      26485.750000   2017.000000   133542.500000\n",
       "max   7317101084.000000 3736928711.000000   2022.000000 10000000.000000"
      ]
     },
     "execution_count": 5,
     "metadata": {},
     "output_type": "execute_result"
    }
   ],
   "source": [
    "df.describe()"
   ]
  },
  {
   "cell_type": "markdown",
   "metadata": {},
   "source": [
    "📌 Insight:\n",
    "* There are some really bogus entires.\n",
    "* Minimum `price` is 0; `year` - 1900; `odometer` - 0.0\n",
    "* Maximum `price` is 3,736,928,711; `odometer` - 10,000,000."
   ]
  },
  {
   "cell_type": "markdown",
   "metadata": {},
   "source": [
    "##### 📌 Analyze the Price ($) data \n",
    "\n",
    "Vehicle Price is the univariate we need to predict. It is important to examine its distribution. The closer it is to normal distribution the better will be our models."
   ]
  },
  {
   "cell_type": "code",
   "execution_count": 6,
   "metadata": {},
   "outputs": [
    {
     "name": "stdout",
     "output_type": "stream",
     "text": [
      "Number of records with Price value <= 0:  32895\n",
      "Number of records with Price value > 100,000:  655\n"
     ]
    },
    {
     "name": "stderr",
     "output_type": "stream",
     "text": [
      "/opt/anaconda3/lib/python3.11/site-packages/seaborn/_oldcore.py:1119: FutureWarning: use_inf_as_na option is deprecated and will be removed in a future version. Convert inf values to NaN before operating instead.\n",
      "  with pd.option_context('mode.use_inf_as_na', True):\n"
     ]
    },
    {
     "data": {
      "text/plain": [
       "[Text(0.5, 1.0, 'Distribution of Price variable < $100,000')]"
      ]
     },
     "execution_count": 6,
     "metadata": {},
     "output_type": "execute_result"
    },
    {
     "data": {
      "image/png": "[encoded data removed]",
      "text/plain": [
       "<Figure size 640x480 with 1 Axes>"
      ]
     },
     "metadata": {},
     "output_type": "display_data"
    }
   ],
   "source": [
    "print('Number of records with Price value <= 0: ', df.query('price <= 0')['price'].count())\n",
    "print('Number of records with Price value > 100,000: ', df.query('price > 100_000')['price'].count())\n",
    "sns.histplot(data = df.query('price < 100_000')['price']).set(title = 'Distribution of Price variable < $100,000')"
   ]
  },
  {
   "cell_type": "markdown",
   "metadata": {},
   "source": [
    "📌 Clearly Vehicle Price variable is not normally distributed. There is a lof of outliers. Primarily 0-values but there are also some very expensive exotic cars. This will need to be addressed in the data preparation phase. "
   ]
  },
  {
   "cell_type": "markdown",
   "metadata": {},
   "source": [
    "##### 📌 Other Vehicle Features"
   ]
  },
  {
   "cell_type": "code",
   "execution_count": 7,
   "metadata": {},
   "outputs": [
    {
     "data": {
      "text/plain": [
       "[Text(0.5, 1.0, 'Distribution of vehicle production year')]"
      ]
     },
     "execution_count": 7,
     "metadata": {},
     "output_type": "execute_result"
    },
    {
     "data": {
      "image/png": "[encoded data removed]",
      "text/plain": [
       "<Figure size 640x480 with 1 Axes>"
      ]
     },
     "metadata": {},
     "output_type": "display_data"
    }
   ],
   "source": [
    "sns.boxplot(data = df, x = 'year').set(title = 'Distribution of vehicle production year')"
   ]
  },
  {
   "cell_type": "markdown",
   "metadata": {},
   "source": [
    "📌 We will need to address cars with bogus `year` entries. 1900 is not the only one bogus value as found earlier. I think we should drop cars manufactured before year 2000. Antics market is a separate and speculative domain on its own and outside of our business objective. \n",
    "\n",
    "In addition we can convert `year` to something like `age` to better express the negative impact vehicle's `age` has on its `price`. "
   ]
  },
  {
   "cell_type": "code",
   "execution_count": 8,
   "metadata": {},
   "outputs": [
    {
     "data": {
      "text/plain": [
       "[Text(0.5, 1.0, 'Distribution of vehicle odometer')]"
      ]
     },
     "execution_count": 8,
     "metadata": {},
     "output_type": "execute_result"
    },
    {
     "data": {
      "image/png": "[encoded data removed]",
      "text/plain": [
       "<Figure size 640x480 with 1 Axes>"
      ]
     },
     "metadata": {},
     "output_type": "display_data"
    }
   ],
   "source": [
    "sns.boxplot(data = df, x = 'odometer').set(title = 'Distribution of vehicle odometer')"
   ]
  },
  {
   "cell_type": "markdown",
   "metadata": {},
   "source": [
    "📌 Similarly to `year`, we will need to discard entries with bogus `odometer` entries. Probably over 200,000 miles is a reasonable cut off value."
   ]
  },
  {
   "cell_type": "code",
   "execution_count": 9,
   "metadata": {},
   "outputs": [
    {
     "data": {
      "text/plain": [
       "cylinders\n",
       "6 cylinders     94169\n",
       "4 cylinders     77642\n",
       "8 cylinders     72062\n",
       "5 cylinders      1712\n",
       "10 cylinders     1455\n",
       "other            1298\n",
       "3 cylinders       655\n",
       "12 cylinders      209\n",
       "Name: count, dtype: int64"
      ]
     },
     "execution_count": 9,
     "metadata": {},
     "output_type": "execute_result"
    }
   ],
   "source": [
    "df['cylinders'].value_counts()"
   ]
  },
  {
   "cell_type": "markdown",
   "metadata": {},
   "source": [
    "📌 We can convert cylinders to numerical type. Then decide if we still need it. It seems like an important driver of a car price (characterizes engine performance) but also there's a lot of missing values. 42% of data is missing."
   ]
  },
  {
   "cell_type": "code",
   "execution_count": 10,
   "metadata": {},
   "outputs": [
    {
     "data": {
      "text/plain": [
       "size\n",
       "full-size      63465\n",
       "mid-size       34476\n",
       "compact        19384\n",
       "sub-compact     3194\n",
       "Name: count, dtype: int64"
      ]
     },
     "execution_count": 10,
     "metadata": {},
     "output_type": "execute_result"
    }
   ],
   "source": [
    "df['size'].value_counts()"
   ]
  },
  {
   "cell_type": "markdown",
   "metadata": {},
   "source": [
    "📌 Car size might be another important feature but 72% of data is missing. "
   ]
  },
  {
   "cell_type": "code",
   "execution_count": 11,
   "metadata": {},
   "outputs": [
    {
     "data": {
      "text/plain": [
       "title_status\n",
       "clean         405117\n",
       "rebuilt         7219\n",
       "salvage         3868\n",
       "lien            1422\n",
       "missing          814\n",
       "parts only       198\n",
       "Name: count, dtype: int64"
      ]
     },
     "execution_count": 11,
     "metadata": {},
     "output_type": "execute_result"
    }
   ],
   "source": [
    "df['title_status'].value_counts()"
   ]
  },
  {
   "cell_type": "markdown",
   "metadata": {},
   "source": [
    "📌 Only 2% if data is missing. We could use Ordinal Encoding. Perhaps remove `missing` and `parts only` vehicles or only focus on `clean` titles too."
   ]
  },
  {
   "cell_type": "code",
   "execution_count": 12,
   "metadata": {},
   "outputs": [
    {
     "data": {
      "text/plain": [
       "transmission\n",
       "automatic    336524\n",
       "other         62682\n",
       "manual        25118\n",
       "Name: count, dtype: int64"
      ]
     },
     "execution_count": 12,
     "metadata": {},
     "output_type": "execute_result"
    }
   ],
   "source": [
    "df['transmission'].value_counts()"
   ]
  },
  {
   "cell_type": "markdown",
   "metadata": {},
   "source": [
    "📌 Only 0.6% of data is missing but I don't think this data is relevant in the US. In Europe, for example, Automatic transmission cars are unpopular."
   ]
  },
  {
   "cell_type": "code",
   "execution_count": 13,
   "metadata": {},
   "outputs": [
    {
     "data": {
      "text/plain": [
       "drive\n",
       "4wd    131904\n",
       "fwd    105517\n",
       "rwd     58892\n",
       "Name: count, dtype: int64"
      ]
     },
     "execution_count": 13,
     "metadata": {},
     "output_type": "execute_result"
    }
   ],
   "source": [
    "df['drive'].value_counts()"
   ]
  },
  {
   "cell_type": "markdown",
   "metadata": {},
   "source": [
    "📌 31% of data missing. Seems irrelevant."
   ]
  },
  {
   "cell_type": "code",
   "execution_count": 14,
   "metadata": {},
   "outputs": [
    {
     "data": {
      "text/plain": [
       "condition\n",
       "good         121456\n",
       "excellent    101467\n",
       "like new      21178\n",
       "fair           6769\n",
       "new            1305\n",
       "salvage         601\n",
       "Name: count, dtype: int64"
      ]
     },
     "execution_count": 14,
     "metadata": {},
     "output_type": "execute_result"
    }
   ],
   "source": [
    "df['condition'].value_counts()"
   ]
  },
  {
   "cell_type": "markdown",
   "metadata": {},
   "source": [
    "📌 40% of data is missing. However, `condition` seems essential in Vehicle Price evaluation."
   ]
  },
  {
   "cell_type": "code",
   "execution_count": 15,
   "metadata": {},
   "outputs": [
    {
     "data": {
      "text/plain": [
       "state\n",
       "de   3205055.885142\n",
       "tn    369348.025574\n",
       "nj    325456.544755\n",
       "md    312340.387191\n",
       "al    239642.532190\n",
       "in    235833.069425\n",
       "or    234168.891370\n",
       "ga    159261.228474\n",
       "ca    120121.124590\n",
       "ok     36207.101443\n",
       "id     35638.497489\n",
       "nc     32828.723440\n",
       "mi     30072.554438\n",
       "oh     26833.671960\n",
       "ut     25099.976522\n",
       "wv     24317.416350\n",
       "ak     23745.823258\n",
       "mt     23515.942326\n",
       "nd     22326.348780\n",
       "wa     22221.343554\n",
       "tx     21344.024450\n",
       "wy     21104.073770\n",
       "mo     20872.681342\n",
       "nv     20574.807138\n",
       "hi     19742.604588\n",
       "az     19482.617928\n",
       "ky     19061.847192\n",
       "nm     19041.866441\n",
       "ks     18954.528749\n",
       "sc     18823.202782\n",
       "ne     18701.601351\n",
       "sd     18369.448541\n",
       "co     18117.450307\n",
       "ar     18061.280832\n",
       "la     17929.547872\n",
       "fl     17852.280137\n",
       "nh     17645.675277\n",
       "ms     17609.733268\n",
       "ny     16976.520118\n",
       "vt     16579.095105\n",
       "il     16559.761914\n",
       "wi     16529.628268\n",
       "ri     16424.106466\n",
       "ia     16183.885774\n",
       "mn     16037.204769\n",
       "ma     15582.394421\n",
       "pa     15542.140915\n",
       "ct     15039.162876\n",
       "dc     14480.132323\n",
       "va     13877.008759\n",
       "me     13782.824343\n",
       "Name: price, dtype: float64"
      ]
     },
     "execution_count": 15,
     "metadata": {},
     "output_type": "execute_result"
    }
   ],
   "source": [
    "df.groupby('state')['price'].mean().sort_values(ascending = False)"
   ]
  },
  {
   "cell_type": "markdown",
   "metadata": {},
   "source": [
    "📌 It looks like in Delaware there's a lot of expensive car sales."
   ]
  },
  {
   "cell_type": "code",
   "execution_count": 16,
   "metadata": {},
   "outputs": [
    {
     "data": {
      "text/plain": [
       "<Axes: >"
      ]
     },
     "execution_count": 16,
     "metadata": {},
     "output_type": "execute_result"
    },
    {
     "data": {
      "image/png": "[encoded data removed]",
      "text/plain": [
       "<Figure size 640x480 with 2 Axes>"
      ]
     },
     "metadata": {},
     "output_type": "display_data"
    }
   ],
   "source": [
    "corr = df.corr(numeric_only = True)\n",
    "sns.heatmap(data = corr, annot = True)"
   ]
  },
  {
   "cell_type": "markdown",
   "metadata": {},
   "source": [
    "📌 Nothing interesting here. Correlation analysis will make more sense after the data cleanup."
   ]
  },
  {
   "cell_type": "code",
   "execution_count": 17,
   "metadata": {},
   "outputs": [
    {
     "data": {
      "text/plain": [
       "0"
      ]
     },
     "execution_count": 17,
     "metadata": {},
     "output_type": "execute_result"
    }
   ],
   "source": [
    "df.duplicated().sum()"
   ]
  },
  {
   "cell_type": "markdown",
   "metadata": {},
   "source": [
    "### Data Preparation\n",
    "\n",
    "After our initial exploration and fine tuning of the business understanding, it is time to construct our final dataset prior to modeling.  Here, we want to make sure to handle any integrity issues and cleaning, the engineering of new features, any transformations that we believe should happen (scaling, logarithms, normalization, etc.), and general preparation for modeling with `sklearn`. "
   ]
  },
  {
   "cell_type": "code",
   "execution_count": null,
   "metadata": {},
   "outputs": [],
   "source": []
  },
  {
   "cell_type": "code",
   "execution_count": null,
   "metadata": {},
   "outputs": [],
   "source": []
  },
  {
   "cell_type": "code",
   "execution_count": null,
   "metadata": {},
   "outputs": [],
   "source": []
  },
  {
   "cell_type": "code",
   "execution_count": null,
   "metadata": {},
   "outputs": [],
   "source": []
  },
  {
   "cell_type": "code",
   "execution_count": null,
   "metadata": {},
   "outputs": [],
   "source": []
  },
  {
   "cell_type": "markdown",
   "metadata": {},
   "source": [
    "### Modeling\n",
    "\n",
    "With your (almost?) final dataset in hand, it is now time to build some models.  Here, you should build a number of different regression models with the price as the target.  In building your models, you should explore different parameters and be sure to cross-validate your findings."
   ]
  },
  {
   "cell_type": "code",
   "execution_count": null,
   "metadata": {},
   "outputs": [],
   "source": []
  },
  {
   "cell_type": "code",
   "execution_count": null,
   "metadata": {},
   "outputs": [],
   "source": []
  },
  {
   "cell_type": "code",
   "execution_count": null,
   "metadata": {},
   "outputs": [],
   "source": []
  },
  {
   "cell_type": "code",
   "execution_count": null,
   "metadata": {},
   "outputs": [],
   "source": []
  },
  {
   "cell_type": "markdown",
   "metadata": {},
   "source": [
    "### Evaluation\n",
    "\n",
    "With some modeling accomplished, we aim to reflect on what we identify as a high quality model and what we are able to learn from this.  We should review our business objective and explore how well we can provide meaningful insight on drivers of used car prices.  Your goal now is to distill your findings and determine whether the earlier phases need revisitation and adjustment or if you have information of value to bring back to your client."
   ]
  },
  {
   "cell_type": "code",
   "execution_count": null,
   "metadata": {},
   "outputs": [],
   "source": []
  },
  {
   "cell_type": "code",
   "execution_count": null,
   "metadata": {},
   "outputs": [],
   "source": []
  },
  {
   "cell_type": "code",
   "execution_count": null,
   "metadata": {},
   "outputs": [],
   "source": []
  },
  {
   "cell_type": "code",
   "execution_count": null,
   "metadata": {},
   "outputs": [],
   "source": []
  },
  {
   "cell_type": "code",
   "execution_count": null,
   "metadata": {},
   "outputs": [],
   "source": []
  },
  {
   "cell_type": "code",
   "execution_count": null,
   "metadata": {},
   "outputs": [],
   "source": []
  },
  {
   "cell_type": "markdown",
   "metadata": {},
   "source": [
    "### Deployment\n",
    "\n",
    "Now that we've settled on our models and findings, it is time to deliver the information to the client.  You should organize your work as a basic report that details your primary findings.  Keep in mind that your audience is a group of used car dealers interested in fine tuning their inventory."
   ]
  },
  {
   "cell_type": "code",
   "execution_count": null,
   "metadata": {},
   "outputs": [],
   "source": []
  },
  {
   "cell_type": "code",
   "execution_count": null,
   "metadata": {},
   "outputs": [],
   "source": []
  },
  {
   "cell_type": "code",
   "execution_count": null,
   "metadata": {},
   "outputs": [],
   "source": []
  },
  {
   "cell_type": "code",
   "execution_count": null,
   "metadata": {},
   "outputs": [],
   "source": []
  },
  {
   "cell_type": "code",
   "execution_count": null,
   "metadata": {},
   "outputs": [],
   "source": []
  },
  {
   "cell_type": "code",
   "execution_count": null,
   "metadata": {},
   "outputs": [],
   "source": []
  },
  {
   "cell_type": "code",
   "execution_count": null,
   "metadata": {},
   "outputs": [],
   "source": []
  }
 ],
 "metadata": {
  "kernelspec": {
   "display_name": "Python 3",
   "language": "python",
   "name": "python3"
  },
  "language_info": {
   "codemirror_mode": {
    "name": "ipython",
    "version": 3
   },
   "file_extension": ".py",
   "mimetype": "text/x-python",
   "name": "python",
   "nbconvert_exporter": "python",
   "pygments_lexer": "ipython3",
   "version": "3.11.7"
  },
  "widgets": {
   "application/vnd.jupyter.widget-state+json": {
    "state": {},
    "version_major": 2,
    "version_minor": 0
   }
  }
 },
 "nbformat": 4,
 "nbformat_minor": 4
}
